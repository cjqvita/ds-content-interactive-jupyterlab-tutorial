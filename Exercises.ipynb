{
  "cells": [
    {
      "cell_type": "markdown",
      "metadata": {
        "id": "a4RnEO-7S0Gi"
      },
      "source": [
        "![rmotr](https://user-images.githubusercontent.com/7065401/52071918-bda15380-2562-11e9-828c-7f95297e4a82.png)\n",
        "<hr style=\"margin-bottom: 40px;\">\n",
        "\n",
        "# Exercises\n",
        "\n",
        "This is a quick demonstration of how exercises work on [Notebooks.ai](https://notebooks.ai)."
      ]
    },
    {
      "cell_type": "markdown",
      "metadata": {
        "id": "CopEOUb3S0Gl"
      },
      "source": [
        "![green-divider](https://user-images.githubusercontent.com/7065401/52071924-c003ad80-2562-11e9-8297-1c6595f8a7ff.png)\n",
        "\n",
        "### Example 1: Solve the add function\n",
        "\n",
        "Complete the code of the function `add`, that receives 2 numbers and should return the sum of them:"
      ]
    },
    {
      "cell_type": "code",
      "execution_count": 1,
      "metadata": {
        "id": "wjkJSUlFS0Go"
      },
      "outputs": [],
      "source": [
        "def add(x, y):\n",
        "    return x + y"
      ]
    },
    {
      "cell_type": "markdown",
      "metadata": {
        "cell_type": "hint",
        "id": "Ar6vvF9VS0Gr"
      },
      "source": [
        "You can use the `+` operator to sum numbers."
      ]
    },
    {
      "cell_type": "code",
      "execution_count": 2,
      "metadata": {
        "cell_type": "solution",
        "id": "WVt5femCS0Gv"
      },
      "outputs": [],
      "source": [
        "def add(x, y):\n",
        "    return x + y"
      ]
    },
    {
      "cell_type": "markdown",
      "metadata": {
        "id": "r0r7AnDlS0Gw"
      },
      "source": [
        "![purple-divider](https://user-images.githubusercontent.com/7065401/52071927-c1cd7100-2562-11e9-908a-dde91ba14e59.png)"
      ]
    },
    {
      "cell_type": "code",
      "source": [
        "print(add(5, 6))"
      ],
      "metadata": {
        "id": "DnAHVrqFS9Ov",
        "outputId": "bdd11d40-3b05-4ff4-ea8c-d4193c4b9bba",
        "colab": {
          "base_uri": "https://localhost:8080/"
        }
      },
      "execution_count": 3,
      "outputs": [
        {
          "output_type": "stream",
          "name": "stdout",
          "text": [
            "11\n"
          ]
        }
      ]
    },
    {
      "cell_type": "code",
      "source": [
        ""
      ],
      "metadata": {
        "id": "lNbNyTs5TA2G"
      },
      "execution_count": null,
      "outputs": []
    }
  ],
  "metadata": {
    "kernelspec": {
      "display_name": "Python 3",
      "language": "python",
      "name": "python3"
    },
    "language_info": {
      "codemirror_mode": {
        "name": "ipython",
        "version": 3
      },
      "file_extension": ".py",
      "mimetype": "text/x-python",
      "name": "python",
      "nbconvert_exporter": "python",
      "pygments_lexer": "ipython3",
      "version": "3.6.8"
    },
    "colab": {
      "name": "Exercises.ipynb",
      "provenance": [],
      "toc_visible": true
    }
  },
  "nbformat": 4,
  "nbformat_minor": 0
}