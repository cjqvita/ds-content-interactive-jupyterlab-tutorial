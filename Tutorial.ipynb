{
  "cells": [
    {
      "cell_type": "markdown",
      "metadata": {
        "id": "85fQkxOGLfWA"
      },
      "source": [
        "![rmotr](https://user-images.githubusercontent.com/7065401/52071918-bda15380-2562-11e9-828c-7f95297e4a82.png)\n",
        "<hr style=\"margin-bottom: 40px;\">\n",
        "\n",
        "<img src=\"https://user-images.githubusercontent.com/7065401/55025843-7d99a280-4fe0-11e9-938a-4879d95c4130.png\"\n",
        "    style=\"width:150px; float: right; margin: 0 40px 40px 40px;\"></img>\n",
        "\n",
        "# Interactive Notebooks Tutorial\n",
        "\n",
        "Welcome to Notebooks.ai ❤️, a fully online 🤖, cloud-based ☁️ Data Science environment. All your work, analysis and datasets organized in the same place 🙌.\n",
        "\n",
        "![purple-divider](https://user-images.githubusercontent.com/7065401/52071927-c1cd7100-2562-11e9-908a-dde91ba14e59.png)"
      ]
    },
    {
      "cell_type": "markdown",
      "metadata": {
        "id": "KnJTLosfLfWI"
      },
      "source": [
        "### Objective of this tutorial:\n",
        "\n",
        "> **Help you get started with Notebooks.ai for Data Science and Python programming.**\n",
        "\n",
        "_Need help? Create an [issue](https://github.com/notebooks-ai/notebooks-help)._\n",
        "\n",
        "![green-divider](https://user-images.githubusercontent.com/7065401/52071924-c003ad80-2562-11e9-8297-1c6595f8a7ff.png)\n",
        "\n",
        "## Jupyter Notebooks\n",
        "\n",
        "This document that you're currently reading is a \"Jupyter Notebook\", and you've probably heard about it before. It's like a text document, but you can run code on it! It can also display inline graphs, pull data from Databases or show excel spreadsheets live! Isn't it amazing? 😄 \n",
        "\n",
        "**Mildly interesting fact of the day:**\n",
        "\n",
        "> _Jupyter is a nod to 3 languages: Julia, Python, and R._ Source [@jakevdp](https://twitter.com/jakevdp/status/1033071052652302336).\n",
        "\n",
        "This is a really quick tutorial on how to get started with Jupyter notebooks (and lab). It shouldn't take more than 10 minutes and you'll be writing Python code right away.\n",
        "\n",
        "### Part 1: everything is a _cell_\n",
        "\n",
        "Jupyter Notebooks are organized as a set of _\"cells\"_. Each cell can contain different types of content: like Python code (or R, Julia, etc), images or even human readable text (markdown), like the one you're currently reading.\n",
        "\n",
        "I've left a couple of empty cells below for you to see them:"
      ]
    },
    {
      "cell_type": "code",
      "execution_count": null,
      "metadata": {
        "id": "xFni6H5lLfWL"
      },
      "outputs": [],
      "source": [
        ""
      ]
    },
    {
      "cell_type": "code",
      "execution_count": null,
      "metadata": {
        "id": "SGL9iRXHLfWM"
      },
      "outputs": [],
      "source": [
        ""
      ]
    },
    {
      "cell_type": "code",
      "execution_count": null,
      "metadata": {
        "id": "dGKXfUIvLfWO"
      },
      "outputs": [],
      "source": [
        ""
      ]
    },
    {
      "cell_type": "markdown",
      "metadata": {
        "id": "5aph-O_HLfWP"
      },
      "source": [
        "This is another cell containing Markdown (human readable) code. And below, another empty cell:"
      ]
    },
    {
      "cell_type": "code",
      "execution_count": null,
      "metadata": {
        "id": "la13z21XLfWR"
      },
      "outputs": [],
      "source": [
        ""
      ]
    },
    {
      "cell_type": "markdown",
      "metadata": {
        "id": "VWFIyvIeLfWR"
      },
      "source": [
        "You can edit these cells just by double clicking on them. Try editing the following cell:"
      ]
    },
    {
      "cell_type": "markdown",
      "metadata": {
        "id": "SiTkacakLfWT"
      },
      "source": [
        "**👉 Double click on this 👈**\n",
        "\n"
      ]
    },
    {
      "cell_type": "markdown",
      "metadata": {
        "id": "ut13QKa2LfWW"
      },
      "source": [
        "When you double click the cell, it should open an \"edit mode\", and you should see something similar to:\n",
        "\n",
        "![image](https://github.com/cjqvita/ds-content-interactive-jupyterlab-tutorial/blob/master/images/_1.png?raw=1)"
      ]
    },
    {
      "cell_type": "markdown",
      "metadata": {
        "id": "JQ9V_qB1LfWY"
      },
      "source": [
        "If you're seeing those asterisks, it's because you've correctly entered \"Edit Mode\". Once you've made the changes, you have to \"execute\", or \"run\" the cell to reflect the changes. To do that just click on the little _play_ button on the top menu bar:\n",
        "\n",
        "![image](https://github.com/cjqvita/ds-content-interactive-jupyterlab-tutorial/blob/master/images/_2.png?raw=1)"
      ]
    },
    {
      "cell_type": "markdown",
      "metadata": {
        "id": "WOvJaMUfLfWZ"
      },
      "source": [
        "Jupyter notebooks are optimized for an efficient workflow. There are many keyboard shortcuts that will let you interact with your documents, run code and make other changes; mastering these shortcuts will speed up your work. For example, there are two shortcuts to execute a cell:\n",
        "\n",
        "1. `shift + return`: Run cell and advance to the next one.\n",
        "2. `ctrl  + return`: Run the cell but don't change focus.\n",
        "\n",
        "\n",
        "Try them with the following cell:"
      ]
    },
    {
      "cell_type": "code",
      "execution_count": 2,
      "metadata": {
        "id": "AUrqEmNlLfWa",
        "outputId": "dd8cd5f9-c0e3-4a2a-9dc0-4f178294b770",
        "colab": {
          "base_uri": "https://localhost:8080/"
        }
      },
      "outputs": [
        {
          "output_type": "execute_result",
          "data": {
            "text/plain": [
              "4"
            ]
          },
          "metadata": {},
          "execution_count": 2
        }
      ],
      "source": [
        "2 + 2"
      ]
    },
    {
      "cell_type": "markdown",
      "metadata": {
        "id": "_s2uiVZBLfWb"
      },
      "source": [
        "You can try executing these cells as many times as you want, it won't break anything"
      ]
    },
    {
      "cell_type": "markdown",
      "metadata": {
        "id": "0MoRelLfLfWb"
      },
      "source": [
        "#### `ctrl + Return` effect:\n",
        "\n",
        "As you can see in the following animation, the code is correctly executed (it returns 4) and the focus (the blue line at the left side of the cell) stays in the same cell.\n",
        "\n",
        "![ctrl+enter effect](https://github.com/cjqvita/ds-content-interactive-jupyterlab-tutorial/blob/master/images/_3.gif?raw=1)\n",
        "\n",
        "Now compare it to the next shortcut, `shift + return`:\n",
        "\n",
        "#### `shift + Return` effect:\n",
        "\n",
        "![shift+enter effect](https://github.com/cjqvita/ds-content-interactive-jupyterlab-tutorial/blob/master/images/_4.gif?raw=1)\n",
        "\n",
        "As you can see, every time I execute code the focus changes to the cell below."
      ]
    },
    {
      "cell_type": "markdown",
      "metadata": {
        "id": "xzdEyUSQLfWc"
      },
      "source": [
        "![green-divider](https://user-images.githubusercontent.com/7065401/52071924-c003ad80-2562-11e9-8297-1c6595f8a7ff.png)"
      ]
    },
    {
      "cell_type": "markdown",
      "metadata": {
        "id": "5Hf3s0KtLfWd"
      },
      "source": [
        "## Part 2: Working with code\n",
        "\n",
        "Jupyter notebooks have amazing features to include text and images and create beautiful, human readable documents as you've just seen. But their main benefit is working with code. Now we're going to import a few libraries and start experimenting with Python code. We've already done the simple `2 + 2` before, so let's do something a little bit more interesting. First, we need to import `numpy` and `matplotlib`:"
      ]
    },
    {
      "cell_type": "code",
      "execution_count": 3,
      "metadata": {
        "id": "06Yuz48aLfWd"
      },
      "outputs": [],
      "source": [
        "import numpy as np\n",
        "import matplotlib.pyplot as plt\n",
        "%matplotlib inline"
      ]
    },
    {
      "cell_type": "markdown",
      "metadata": {
        "id": "I_PxsbIXLfWe"
      },
      "source": [
        "Notebooks.ai include all the most popular Data Science and Deep Learning libraries already installed. And even if there's one missing, you can always install it in your own environment (more on that later). We've just imported these two libraries:\n",
        "* `numpy` the most popular Python library for array manipulation and numeric computing\n",
        "* `matplotlib` the most popular visualization library in the Python ecosystem.\n",
        "\n",
        "Let's now execute a few lines of code and generate some plots:"
      ]
    },
    {
      "cell_type": "code",
      "execution_count": 4,
      "metadata": {
        "id": "PaWW4uxyLfWf"
      },
      "outputs": [],
      "source": [
        "x = np.linspace(0, 10, 500)\n",
        "y = np.cumsum(np.random.randn(500, 6), 0)"
      ]
    },
    {
      "cell_type": "code",
      "execution_count": 5,
      "metadata": {
        "id": "vNCzIeeBLfWf",
        "outputId": "7a5c4a38-8ea4-4ad9-d165-7f1cf2fd76b7",
        "colab": {
          "base_uri": "https://localhost:8080/",
          "height": 445
        }
      },
      "outputs": [
        {
          "output_type": "execute_result",
          "data": {
            "text/plain": [
              "<matplotlib.legend.Legend at 0x7f1286609b50>"
            ]
          },
          "metadata": {},
          "execution_count": 5
        },
        {
          "output_type": "display_data",
          "data": {
            "text/plain": [
              "<Figure size 864x504 with 1 Axes>"
            ],
            "image/png": "[encoded data removed]"
          },
          "metadata": {
            "needs_background": "light"
          }
        }
      ],
      "source": [
        "plt.figure(figsize=(12, 7))\n",
        "plt.plot(x, y)\n",
        "plt.legend('ABCDEF', ncol=2, loc='upper left')"
      ]
    },
    {
      "cell_type": "markdown",
      "metadata": {
        "id": "KGnIHv5BLfWf"
      },
      "source": [
        "But what is that 😱? Just random generated datapoints, but you can clearly see how simple is to do numeric processing and plotting with Notebooks.ai."
      ]
    },
    {
      "cell_type": "markdown",
      "metadata": {
        "id": "qC2i-gEaLfWf"
      },
      "source": [
        "![green-divider](https://user-images.githubusercontent.com/7065401/52071924-c003ad80-2562-11e9-8297-1c6595f8a7ff.png)\n",
        "\n",
        "## Part 3: Interacting with data\n",
        "\n",
        "Notebooks.ai and Jupyter Lab make it really simple to intereact with files in your local storage. These files are securely stored in the cloud and you can access them from anywhere in the world.\n",
        "\n",
        "To show you the full potential of Notebooks.ai, we're going to pull cryptocurrencies prices from a public API and download them as Excel files, pretty fancy 😎. I need to import two libraries first: `requests` (to pull data from the web) and `pandas` to process it."
      ]
    },
    {
      "cell_type": "code",
      "execution_count": 6,
      "metadata": {
        "id": "hXBCt28OLfWg"
      },
      "outputs": [],
      "source": [
        "import requests\n",
        "import pandas as pd"
      ]
    },
    {
      "cell_type": "markdown",
      "metadata": {
        "id": "qW_IHYhsLfWh"
      },
      "source": [
        "I have a predefined function that simplifies the process of importing data from [Cryptowatch](https://cryptowat.ch) (for reference, check [their docs](https://cryptowat.ch/docs/api#ohlc))."
      ]
    },
    {
      "cell_type": "code",
      "execution_count": 7,
      "metadata": {
        "id": "BL-XaNfNLfWi"
      },
      "outputs": [],
      "source": [
        "def get_historic_price(symbol, exchange='bitfinex', after='2018-09-01'):\n",
        "    url = 'https://api.cryptowat.ch/markets/{exchange}/{symbol}usd/ohlc'.format(\n",
        "        symbol=symbol, exchange=exchange)\n",
        "    resp = requests.get(url, params={\n",
        "        'periods': '3600',\n",
        "        'after': str(int(pd.Timestamp(after).timestamp()))\n",
        "    })\n",
        "    resp.raise_for_status()\n",
        "    data = resp.json()\n",
        "    df = pd.DataFrame(data['result']['3600'], columns=[\n",
        "        'CloseTime', 'OpenPrice', 'HighPrice', 'LowPrice', 'ClosePrice', 'Volume', 'NA'\n",
        "    ])\n",
        "    df['CloseTime'] = pd.to_datetime(df['CloseTime'], unit='s')\n",
        "    df.set_index('CloseTime', inplace=True)\n",
        "    return df"
      ]
    },
    {
      "cell_type": "markdown",
      "metadata": {
        "id": "KMuT78TpLfWk"
      },
      "source": [
        "I will now pull data from Bitcoin and Ether, two of the most popular cryptocurrencies, for the last 7 days:"
      ]
    },
    {
      "cell_type": "code",
      "execution_count": 8,
      "metadata": {
        "id": "wNfv9Tj3LfWl",
        "outputId": "cdc6acc4-702e-426b-dfa2-c4031b4f61d6",
        "colab": {
          "base_uri": "https://localhost:8080/"
        }
      },
      "outputs": [
        {
          "output_type": "execute_result",
          "data": {
            "text/plain": [
              "Timestamp('2022-06-27 08:12:34.288728')"
            ]
          },
          "metadata": {},
          "execution_count": 8
        }
      ],
      "source": [
        "last_week = (pd.Timestamp.now() - pd.offsets.Day(7))\n",
        "last_week"
      ]
    },
    {
      "cell_type": "code",
      "execution_count": 9,
      "metadata": {
        "id": "gzwhzJjrLfWm"
      },
      "outputs": [],
      "source": [
        "btc = get_historic_price('btc', 'bitstamp', after=last_week)"
      ]
    },
    {
      "cell_type": "code",
      "execution_count": 10,
      "metadata": {
        "id": "q2lG1sr9LfWo"
      },
      "outputs": [],
      "source": [
        "eth = get_historic_price('eth', 'bitstamp', after=last_week)"
      ]
    },
    {
      "cell_type": "markdown",
      "metadata": {
        "id": "Wiw5U5SRLfWp"
      },
      "source": [
        "**Bitcoin:**"
      ]
    },
    {
      "cell_type": "code",
      "execution_count": 11,
      "metadata": {
        "id": "JDdXWVjHLfWq",
        "outputId": "2060a562-8a9e-42b9-d959-37392a3d10f8",
        "colab": {
          "base_uri": "https://localhost:8080/",
          "height": 238
        }
      },
      "outputs": [
        {
          "output_type": "execute_result",
          "data": {
            "text/plain": [
              "                     OpenPrice  HighPrice  LowPrice  ClosePrice      Volume  \\\n",
              "CloseTime                                                                     \n",
              "2022-06-27 09:00:00   21379.84   21516.85  21327.46    21493.34  123.188479   \n",
              "2022-06-27 10:00:00   21470.61   21474.71  21408.46    21447.30   31.126379   \n",
              "2022-06-27 11:00:00   21449.63   21480.99  21386.19    21434.67   27.881428   \n",
              "2022-06-27 12:00:00   21428.56   21440.80  21260.46    21284.85   30.745762   \n",
              "2022-06-27 13:00:00   21292.42   21317.60  21145.77    21223.80   94.123558   \n",
              "\n",
              "                               NA  \n",
              "CloseTime                          \n",
              "2022-06-27 09:00:00  2.640590e+06  \n",
              "2022-06-27 10:00:00  6.674885e+05  \n",
              "2022-06-27 11:00:00  5.975072e+05  \n",
              "2022-06-27 12:00:00  6.565520e+05  \n",
              "2022-06-27 13:00:00  1.996784e+06  "
            ],
            "text/html": [
              "\n",
              "  <div id=\"df-73f8dfee-2e3c-4262-98fb-0ad72c67b9e4\">\n",
              "    <div class=\"colab-df-container\">\n",
              "      <div>\n",
              "<style scoped>\n",
              "    .dataframe tbody tr th:only-of-type {\n",
              "        vertical-align: middle;\n",
              "    }\n",
              "\n",
              "    .dataframe tbody tr th {\n",
              "        vertical-align: top;\n",
              "    }\n",
              "\n",
              "    .dataframe thead th {\n",
              "        text-align: right;\n",
              "    }\n",
              "</style>\n",
              "<table border=\"1\" class=\"dataframe\">\n",
              "  <thead>\n",
              "    <tr style=\"text-align: right;\">\n",
              "      <th></th>\n",
              "      <th>OpenPrice</th>\n",
              "      <th>HighPrice</th>\n",
              "      <th>LowPrice</th>\n",
              "      <th>ClosePrice</th>\n",
              "      <th>Volume</th>\n",
              "      <th>NA</th>\n",
              "    </tr>\n",
              "    <tr>\n",
              "      <th>CloseTime</th>\n",
              "      <th></th>\n",
              "      <th></th>\n",
              "      <th></th>\n",
              "      <th></th>\n",
              "      <th></th>\n",
              "      <th></th>\n",
              "    </tr>\n",
              "  </thead>\n",
              "  <tbody>\n",
              "    <tr>\n",
              "      <th>2022-06-27 09:00:00</th>\n",
              "      <td>21379.84</td>\n",
              "      <td>21516.85</td>\n",
              "      <td>21327.46</td>\n",
              "      <td>21493.34</td>\n",
              "      <td>123.188479</td>\n",
              "      <td>2.640590e+06</td>\n",
              "    </tr>\n",
              "    <tr>\n",
              "      <th>2022-06-27 10:00:00</th>\n",
              "      <td>21470.61</td>\n",
              "      <td>21474.71</td>\n",
              "      <td>21408.46</td>\n",
              "      <td>21447.30</td>\n",
              "      <td>31.126379</td>\n",
              "      <td>6.674885e+05</td>\n",
              "    </tr>\n",
              "    <tr>\n",
              "      <th>2022-06-27 11:00:00</th>\n",
              "      <td>21449.63</td>\n",
              "      <td>21480.99</td>\n",
              "      <td>21386.19</td>\n",
              "      <td>21434.67</td>\n",
              "      <td>27.881428</td>\n",
              "      <td>5.975072e+05</td>\n",
              "    </tr>\n",
              "    <tr>\n",
              "      <th>2022-06-27 12:00:00</th>\n",
              "      <td>21428.56</td>\n",
              "      <td>21440.80</td>\n",
              "      <td>21260.46</td>\n",
              "      <td>21284.85</td>\n",
              "      <td>30.745762</td>\n",
              "      <td>6.565520e+05</td>\n",
              "    </tr>\n",
              "    <tr>\n",
              "      <th>2022-06-27 13:00:00</th>\n",
              "      <td>21292.42</td>\n",
              "      <td>21317.60</td>\n",
              "      <td>21145.77</td>\n",
              "      <td>21223.80</td>\n",
              "      <td>94.123558</td>\n",
              "      <td>1.996784e+06</td>\n",
              "    </tr>\n",
              "  </tbody>\n",
              "</table>\n",
              "</div>\n",
              "      <button class=\"colab-df-convert\" onclick=\"convertToInteractive('df-73f8dfee-2e3c-4262-98fb-0ad72c67b9e4')\"\n",
              "              title=\"Convert this dataframe to an interactive table.\"\n",
              "              style=\"display:none;\">\n",
              "        \n",
              "  <svg xmlns=\"http://www.w3.org/2000/svg\" height=\"24px\"viewBox=\"0 0 24 24\"\n",
              "       width=\"24px\">\n",
              "    <path d=\"M0 0h24v24H0V0z\" fill=\"none\"/>\n",
              "    <path d=\"M18.56 5.44l.94 2.06.94-2.06 2.06-.94-2.06-.94-.94-2.06-.94 2.06-2.06.94zm-11 1L8.5 8.5l.94-2.06 2.06-.94-2.06-.94L8.5 2.5l-.94 2.06-2.06.94zm10 10l.94 2.06.94-2.06 2.06-.94-2.06-.94-.94-2.06-.94 2.06-2.06.94z\"/><path d=\"M17.41 7.96l-1.37-1.37c-.4-.4-.92-.59-1.43-.59-.52 0-1.04.2-1.43.59L10.3 9.45l-7.72 7.72c-.78.78-.78 2.05 0 2.83L4 21.41c.39.39.9.59 1.41.59.51 0 1.02-.2 1.41-.59l7.78-7.78 2.81-2.81c.8-.78.8-2.07 0-2.86zM5.41 20L4 18.59l7.72-7.72 1.47 1.35L5.41 20z\"/>\n",
              "  </svg>\n",
              "      </button>\n",
              "      \n",
              "  <style>\n",
              "    .colab-df-container {\n",
              "      display:flex;\n",
              "      flex-wrap:wrap;\n",
              "      gap: 12px;\n",
              "    }\n",
              "\n",
              "    .colab-df-convert {\n",
              "      background-color: #E8F0FE;\n",
              "      border: none;\n",
              "      border-radius: 50%;\n",
              "      cursor: pointer;\n",
              "      display: none;\n",
              "      fill: #1967D2;\n",
              "      height: 32px;\n",
              "      padding: 0 0 0 0;\n",
              "      width: 32px;\n",
              "    }\n",
              "\n",
              "    .colab-df-convert:hover {\n",
              "      background-color: #E2EBFA;\n",
              "      box-shadow: 0px 1px 2px rgba(60, 64, 67, 0.3), 0px 1px 3px 1px rgba(60, 64, 67, 0.15);\n",
              "      fill: #174EA6;\n",
              "    }\n",
              "\n",
              "    [theme=dark] .colab-df-convert {\n",
              "      background-color: #3B4455;\n",
              "      fill: #D2E3FC;\n",
              "    }\n",
              "\n",
              "    [theme=dark] .colab-df-convert:hover {\n",
              "      background-color: #434B5C;\n",
              "      box-shadow: 0px 1px 3px 1px rgba(0, 0, 0, 0.15);\n",
              "      filter: drop-shadow(0px 1px 2px rgba(0, 0, 0, 0.3));\n",
              "      fill: #FFFFFF;\n",
              "    }\n",
              "  </style>\n",
              "\n",
              "      <script>\n",
              "        const buttonEl =\n",
              "          document.querySelector('#df-73f8dfee-2e3c-4262-98fb-0ad72c67b9e4 button.colab-df-convert');\n",
              "        buttonEl.style.display =\n",
              "          google.colab.kernel.accessAllowed ? 'block' : 'none';\n",
              "\n",
              "        async function convertToInteractive(key) {\n",
              "          const element = document.querySelector('#df-73f8dfee-2e3c-4262-98fb-0ad72c67b9e4');\n",
              "          const dataTable =\n",
              "            await google.colab.kernel.invokeFunction('convertToInteractive',\n",
              "                                                     [key], {});\n",
              "          if (!dataTable) return;\n",
              "\n",
              "          const docLinkHtml = 'Like what you see? Visit the ' +\n",
              "            '<a target=\"_blank\" href=https://colab.research.google.com/notebooks/data_table.ipynb>data table notebook</a>'\n",
              "            + ' to learn more about interactive tables.';\n",
              "          element.innerHTML = '';\n",
              "          dataTable['output_type'] = 'display_data';\n",
              "          await google.colab.output.renderOutput(dataTable, element);\n",
              "          const docLink = document.createElement('div');\n",
              "          docLink.innerHTML = docLinkHtml;\n",
              "          element.appendChild(docLink);\n",
              "        }\n",
              "      </script>\n",
              "    </div>\n",
              "  </div>\n",
              "  "
            ]
          },
          "metadata": {},
          "execution_count": 11
        }
      ],
      "source": [
        "btc.head()"
      ]
    },
    {
      "cell_type": "code",
      "execution_count": 12,
      "metadata": {
        "id": "T3Bx4MqKLfWq",
        "outputId": "3fcb70af-5361-46d1-b4bd-d98f365be25c",
        "colab": {
          "base_uri": "https://localhost:8080/",
          "height": 483
        }
      },
      "outputs": [
        {
          "output_type": "execute_result",
          "data": {
            "text/plain": [
              "<matplotlib.axes._subplots.AxesSubplot at 0x7f127846d7d0>"
            ]
          },
          "metadata": {},
          "execution_count": 12
        },
        {
          "output_type": "display_data",
          "data": {
            "text/plain": [
              "<Figure size 1080x504 with 1 Axes>"
            ],
            "image/png": "[encoded data removed]"
          },
          "metadata": {
            "needs_background": "light"
          }
        }
      ],
      "source": [
        "btc['ClosePrice'].plot(figsize=(15, 7))"
      ]
    },
    {
      "cell_type": "markdown",
      "metadata": {
        "id": "LIcGfiesLfWs"
      },
      "source": [
        "**Ether:**"
      ]
    },
    {
      "cell_type": "code",
      "execution_count": 13,
      "metadata": {
        "id": "4qnTIrgULfWs",
        "outputId": "c3359921-4028-442b-c0f1-fb8aba3e31ec",
        "colab": {
          "base_uri": "https://localhost:8080/",
          "height": 238
        }
      },
      "outputs": [
        {
          "output_type": "execute_result",
          "data": {
            "text/plain": [
              "                     OpenPrice  HighPrice  LowPrice  ClosePrice      Volume  \\\n",
              "CloseTime                                                                     \n",
              "2022-06-27 09:00:00    1226.78    1233.72   1223.55     1232.69  182.648193   \n",
              "2022-06-27 10:00:00    1232.06    1235.54   1227.59     1233.33  221.352928   \n",
              "2022-06-27 11:00:00    1233.17    1237.91   1228.34     1232.79  282.667314   \n",
              "2022-06-27 12:00:00    1232.47    1234.59   1215.44     1219.62  252.326257   \n",
              "2022-06-27 13:00:00    1218.98    1222.15   1210.05     1214.82  416.173781   \n",
              "\n",
              "                                NA  \n",
              "CloseTime                           \n",
              "2022-06-27 09:00:00  224654.143493  \n",
              "2022-06-27 10:00:00  272624.995635  \n",
              "2022-06-27 11:00:00  348279.913184  \n",
              "2022-06-27 12:00:00  308645.751691  \n",
              "2022-06-27 13:00:00  505820.069231  "
            ],
            "text/html": [
              "\n",
              "  <div id=\"df-8c0e39b5-7b9e-4c86-afb3-2a6a87646612\">\n",
              "    <div class=\"colab-df-container\">\n",
              "      <div>\n",
              "<style scoped>\n",
              "    .dataframe tbody tr th:only-of-type {\n",
              "        vertical-align: middle;\n",
              "    }\n",
              "\n",
              "    .dataframe tbody tr th {\n",
              "        vertical-align: top;\n",
              "    }\n",
              "\n",
              "    .dataframe thead th {\n",
              "        text-align: right;\n",
              "    }\n",
              "</style>\n",
              "<table border=\"1\" class=\"dataframe\">\n",
              "  <thead>\n",
              "    <tr style=\"text-align: right;\">\n",
              "      <th></th>\n",
              "      <th>OpenPrice</th>\n",
              "      <th>HighPrice</th>\n",
              "      <th>LowPrice</th>\n",
              "      <th>ClosePrice</th>\n",
              "      <th>Volume</th>\n",
              "      <th>NA</th>\n",
              "    </tr>\n",
              "    <tr>\n",
              "      <th>CloseTime</th>\n",
              "      <th></th>\n",
              "      <th></th>\n",
              "      <th></th>\n",
              "      <th></th>\n",
              "      <th></th>\n",
              "      <th></th>\n",
              "    </tr>\n",
              "  </thead>\n",
              "  <tbody>\n",
              "    <tr>\n",
              "      <th>2022-06-27 09:00:00</th>\n",
              "      <td>1226.78</td>\n",
              "      <td>1233.72</td>\n",
              "      <td>1223.55</td>\n",
              "      <td>1232.69</td>\n",
              "      <td>182.648193</td>\n",
              "      <td>224654.143493</td>\n",
              "    </tr>\n",
              "    <tr>\n",
              "      <th>2022-06-27 10:00:00</th>\n",
              "      <td>1232.06</td>\n",
              "      <td>1235.54</td>\n",
              "      <td>1227.59</td>\n",
              "      <td>1233.33</td>\n",
              "      <td>221.352928</td>\n",
              "      <td>272624.995635</td>\n",
              "    </tr>\n",
              "    <tr>\n",
              "      <th>2022-06-27 11:00:00</th>\n",
              "      <td>1233.17</td>\n",
              "      <td>1237.91</td>\n",
              "      <td>1228.34</td>\n",
              "      <td>1232.79</td>\n",
              "      <td>282.667314</td>\n",
              "      <td>348279.913184</td>\n",
              "    </tr>\n",
              "    <tr>\n",
              "      <th>2022-06-27 12:00:00</th>\n",
              "      <td>1232.47</td>\n",
              "      <td>1234.59</td>\n",
              "      <td>1215.44</td>\n",
              "      <td>1219.62</td>\n",
              "      <td>252.326257</td>\n",
              "      <td>308645.751691</td>\n",
              "    </tr>\n",
              "    <tr>\n",
              "      <th>2022-06-27 13:00:00</th>\n",
              "      <td>1218.98</td>\n",
              "      <td>1222.15</td>\n",
              "      <td>1210.05</td>\n",
              "      <td>1214.82</td>\n",
              "      <td>416.173781</td>\n",
              "      <td>505820.069231</td>\n",
              "    </tr>\n",
              "  </tbody>\n",
              "</table>\n",
              "</div>\n",
              "      <button class=\"colab-df-convert\" onclick=\"convertToInteractive('df-8c0e39b5-7b9e-4c86-afb3-2a6a87646612')\"\n",
              "              title=\"Convert this dataframe to an interactive table.\"\n",
              "              style=\"display:none;\">\n",
              "        \n",
              "  <svg xmlns=\"http://www.w3.org/2000/svg\" height=\"24px\"viewBox=\"0 0 24 24\"\n",
              "       width=\"24px\">\n",
              "    <path d=\"M0 0h24v24H0V0z\" fill=\"none\"/>\n",
              "    <path d=\"M18.56 5.44l.94 2.06.94-2.06 2.06-.94-2.06-.94-.94-2.06-.94 2.06-2.06.94zm-11 1L8.5 8.5l.94-2.06 2.06-.94-2.06-.94L8.5 2.5l-.94 2.06-2.06.94zm10 10l.94 2.06.94-2.06 2.06-.94-2.06-.94-.94-2.06-.94 2.06-2.06.94z\"/><path d=\"M17.41 7.96l-1.37-1.37c-.4-.4-.92-.59-1.43-.59-.52 0-1.04.2-1.43.59L10.3 9.45l-7.72 7.72c-.78.78-.78 2.05 0 2.83L4 21.41c.39.39.9.59 1.41.59.51 0 1.02-.2 1.41-.59l7.78-7.78 2.81-2.81c.8-.78.8-2.07 0-2.86zM5.41 20L4 18.59l7.72-7.72 1.47 1.35L5.41 20z\"/>\n",
              "  </svg>\n",
              "      </button>\n",
              "      \n",
              "  <style>\n",
              "    .colab-df-container {\n",
              "      display:flex;\n",
              "      flex-wrap:wrap;\n",
              "      gap: 12px;\n",
              "    }\n",
              "\n",
              "    .colab-df-convert {\n",
              "      background-color: #E8F0FE;\n",
              "      border: none;\n",
              "      border-radius: 50%;\n",
              "      cursor: pointer;\n",
              "      display: none;\n",
              "      fill: #1967D2;\n",
              "      height: 32px;\n",
              "      padding: 0 0 0 0;\n",
              "      width: 32px;\n",
              "    }\n",
              "\n",
              "    .colab-df-convert:hover {\n",
              "      background-color: #E2EBFA;\n",
              "      box-shadow: 0px 1px 2px rgba(60, 64, 67, 0.3), 0px 1px 3px 1px rgba(60, 64, 67, 0.15);\n",
              "      fill: #174EA6;\n",
              "    }\n",
              "\n",
              "    [theme=dark] .colab-df-convert {\n",
              "      background-color: #3B4455;\n",
              "      fill: #D2E3FC;\n",
              "    }\n",
              "\n",
              "    [theme=dark] .colab-df-convert:hover {\n",
              "      background-color: #434B5C;\n",
              "      box-shadow: 0px 1px 3px 1px rgba(0, 0, 0, 0.15);\n",
              "      filter: drop-shadow(0px 1px 2px rgba(0, 0, 0, 0.3));\n",
              "      fill: #FFFFFF;\n",
              "    }\n",
              "  </style>\n",
              "\n",
              "      <script>\n",
              "        const buttonEl =\n",
              "          document.querySelector('#df-8c0e39b5-7b9e-4c86-afb3-2a6a87646612 button.colab-df-convert');\n",
              "        buttonEl.style.display =\n",
              "          google.colab.kernel.accessAllowed ? 'block' : 'none';\n",
              "\n",
              "        async function convertToInteractive(key) {\n",
              "          const element = document.querySelector('#df-8c0e39b5-7b9e-4c86-afb3-2a6a87646612');\n",
              "          const dataTable =\n",
              "            await google.colab.kernel.invokeFunction('convertToInteractive',\n",
              "                                                     [key], {});\n",
              "          if (!dataTable) return;\n",
              "\n",
              "          const docLinkHtml = 'Like what you see? Visit the ' +\n",
              "            '<a target=\"_blank\" href=https://colab.research.google.com/notebooks/data_table.ipynb>data table notebook</a>'\n",
              "            + ' to learn more about interactive tables.';\n",
              "          element.innerHTML = '';\n",
              "          dataTable['output_type'] = 'display_data';\n",
              "          await google.colab.output.renderOutput(dataTable, element);\n",
              "          const docLink = document.createElement('div');\n",
              "          docLink.innerHTML = docLinkHtml;\n",
              "          element.appendChild(docLink);\n",
              "        }\n",
              "      </script>\n",
              "    </div>\n",
              "  </div>\n",
              "  "
            ]
          },
          "metadata": {},
          "execution_count": 13
        }
      ],
      "source": [
        "eth.head()"
      ]
    },
    {
      "cell_type": "code",
      "execution_count": 14,
      "metadata": {
        "id": "SfMrNiWQLfWt",
        "outputId": "23c0decd-1a38-4b21-a34d-0312da2d729e",
        "colab": {
          "base_uri": "https://localhost:8080/",
          "height": 483
        }
      },
      "outputs": [
        {
          "output_type": "execute_result",
          "data": {
            "text/plain": [
              "<matplotlib.axes._subplots.AxesSubplot at 0x7f1278390e90>"
            ]
          },
          "metadata": {},
          "execution_count": 14
        },
        {
          "output_type": "display_data",
          "data": {
            "text/plain": [
              "<Figure size 1080x504 with 1 Axes>"
            ],
            "image/png": "[encoded data removed]"
          },
          "metadata": {
            "needs_background": "light"
          }
        }
      ],
      "source": [
        "eth['ClosePrice'].plot(figsize=(15, 7))"
      ]
    },
    {
      "cell_type": "markdown",
      "metadata": {
        "id": "Qtqr27qDLfWt"
      },
      "source": [
        "As you can see, we're able to pull data from the internet with just a few lines, create a DataFrame and plot it all within Jupyter Lab."
      ]
    },
    {
      "cell_type": "code",
      "execution_count": 15,
      "metadata": {
        "id": "5MavEuCSLfWt",
        "outputId": "f71f8cb6-9f91-45a3-c977-6a84e768fca8",
        "colab": {
          "base_uri": "https://localhost:8080/",
          "height": 238
        }
      },
      "outputs": [
        {
          "output_type": "execute_result",
          "data": {
            "text/plain": [
              "                     OpenPrice  HighPrice  LowPrice  ClosePrice      Volume  \\\n",
              "CloseTime                                                                     \n",
              "2022-06-27 09:00:00    1226.78    1233.72   1223.55     1232.69  182.648193   \n",
              "2022-06-27 10:00:00    1232.06    1235.54   1227.59     1233.33  221.352928   \n",
              "2022-06-27 11:00:00    1233.17    1237.91   1228.34     1232.79  282.667314   \n",
              "2022-06-27 12:00:00    1232.47    1234.59   1215.44     1219.62  252.326257   \n",
              "2022-06-27 13:00:00    1218.98    1222.15   1210.05     1214.82  416.173781   \n",
              "\n",
              "                                NA  \n",
              "CloseTime                           \n",
              "2022-06-27 09:00:00  224654.143493  \n",
              "2022-06-27 10:00:00  272624.995635  \n",
              "2022-06-27 11:00:00  348279.913184  \n",
              "2022-06-27 12:00:00  308645.751691  \n",
              "2022-06-27 13:00:00  505820.069231  "
            ],
            "text/html": [
              "\n",
              "  <div id=\"df-76f313cb-309f-4f20-bdcb-69d3784146c6\">\n",
              "    <div class=\"colab-df-container\">\n",
              "      <div>\n",
              "<style scoped>\n",
              "    .dataframe tbody tr th:only-of-type {\n",
              "        vertical-align: middle;\n",
              "    }\n",
              "\n",
              "    .dataframe tbody tr th {\n",
              "        vertical-align: top;\n",
              "    }\n",
              "\n",
              "    .dataframe thead th {\n",
              "        text-align: right;\n",
              "    }\n",
              "</style>\n",
              "<table border=\"1\" class=\"dataframe\">\n",
              "  <thead>\n",
              "    <tr style=\"text-align: right;\">\n",
              "      <th></th>\n",
              "      <th>OpenPrice</th>\n",
              "      <th>HighPrice</th>\n",
              "      <th>LowPrice</th>\n",
              "      <th>ClosePrice</th>\n",
              "      <th>Volume</th>\n",
              "      <th>NA</th>\n",
              "    </tr>\n",
              "    <tr>\n",
              "      <th>CloseTime</th>\n",
              "      <th></th>\n",
              "      <th></th>\n",
              "      <th></th>\n",
              "      <th></th>\n",
              "      <th></th>\n",
              "      <th></th>\n",
              "    </tr>\n",
              "  </thead>\n",
              "  <tbody>\n",
              "    <tr>\n",
              "      <th>2022-06-27 09:00:00</th>\n",
              "      <td>1226.78</td>\n",
              "      <td>1233.72</td>\n",
              "      <td>1223.55</td>\n",
              "      <td>1232.69</td>\n",
              "      <td>182.648193</td>\n",
              "      <td>224654.143493</td>\n",
              "    </tr>\n",
              "    <tr>\n",
              "      <th>2022-06-27 10:00:00</th>\n",
              "      <td>1232.06</td>\n",
              "      <td>1235.54</td>\n",
              "      <td>1227.59</td>\n",
              "      <td>1233.33</td>\n",
              "      <td>221.352928</td>\n",
              "      <td>272624.995635</td>\n",
              "    </tr>\n",
              "    <tr>\n",
              "      <th>2022-06-27 11:00:00</th>\n",
              "      <td>1233.17</td>\n",
              "      <td>1237.91</td>\n",
              "      <td>1228.34</td>\n",
              "      <td>1232.79</td>\n",
              "      <td>282.667314</td>\n",
              "      <td>348279.913184</td>\n",
              "    </tr>\n",
              "    <tr>\n",
              "      <th>2022-06-27 12:00:00</th>\n",
              "      <td>1232.47</td>\n",
              "      <td>1234.59</td>\n",
              "      <td>1215.44</td>\n",
              "      <td>1219.62</td>\n",
              "      <td>252.326257</td>\n",
              "      <td>308645.751691</td>\n",
              "    </tr>\n",
              "    <tr>\n",
              "      <th>2022-06-27 13:00:00</th>\n",
              "      <td>1218.98</td>\n",
              "      <td>1222.15</td>\n",
              "      <td>1210.05</td>\n",
              "      <td>1214.82</td>\n",
              "      <td>416.173781</td>\n",
              "      <td>505820.069231</td>\n",
              "    </tr>\n",
              "  </tbody>\n",
              "</table>\n",
              "</div>\n",
              "      <button class=\"colab-df-convert\" onclick=\"convertToInteractive('df-76f313cb-309f-4f20-bdcb-69d3784146c6')\"\n",
              "              title=\"Convert this dataframe to an interactive table.\"\n",
              "              style=\"display:none;\">\n",
              "        \n",
              "  <svg xmlns=\"http://www.w3.org/2000/svg\" height=\"24px\"viewBox=\"0 0 24 24\"\n",
              "       width=\"24px\">\n",
              "    <path d=\"M0 0h24v24H0V0z\" fill=\"none\"/>\n",
              "    <path d=\"M18.56 5.44l.94 2.06.94-2.06 2.06-.94-2.06-.94-.94-2.06-.94 2.06-2.06.94zm-11 1L8.5 8.5l.94-2.06 2.06-.94-2.06-.94L8.5 2.5l-.94 2.06-2.06.94zm10 10l.94 2.06.94-2.06 2.06-.94-2.06-.94-.94-2.06-.94 2.06-2.06.94z\"/><path d=\"M17.41 7.96l-1.37-1.37c-.4-.4-.92-.59-1.43-.59-.52 0-1.04.2-1.43.59L10.3 9.45l-7.72 7.72c-.78.78-.78 2.05 0 2.83L4 21.41c.39.39.9.59 1.41.59.51 0 1.02-.2 1.41-.59l7.78-7.78 2.81-2.81c.8-.78.8-2.07 0-2.86zM5.41 20L4 18.59l7.72-7.72 1.47 1.35L5.41 20z\"/>\n",
              "  </svg>\n",
              "      </button>\n",
              "      \n",
              "  <style>\n",
              "    .colab-df-container {\n",
              "      display:flex;\n",
              "      flex-wrap:wrap;\n",
              "      gap: 12px;\n",
              "    }\n",
              "\n",
              "    .colab-df-convert {\n",
              "      background-color: #E8F0FE;\n",
              "      border: none;\n",
              "      border-radius: 50%;\n",
              "      cursor: pointer;\n",
              "      display: none;\n",
              "      fill: #1967D2;\n",
              "      height: 32px;\n",
              "      padding: 0 0 0 0;\n",
              "      width: 32px;\n",
              "    }\n",
              "\n",
              "    .colab-df-convert:hover {\n",
              "      background-color: #E2EBFA;\n",
              "      box-shadow: 0px 1px 2px rgba(60, 64, 67, 0.3), 0px 1px 3px 1px rgba(60, 64, 67, 0.15);\n",
              "      fill: #174EA6;\n",
              "    }\n",
              "\n",
              "    [theme=dark] .colab-df-convert {\n",
              "      background-color: #3B4455;\n",
              "      fill: #D2E3FC;\n",
              "    }\n",
              "\n",
              "    [theme=dark] .colab-df-convert:hover {\n",
              "      background-color: #434B5C;\n",
              "      box-shadow: 0px 1px 3px 1px rgba(0, 0, 0, 0.15);\n",
              "      filter: drop-shadow(0px 1px 2px rgba(0, 0, 0, 0.3));\n",
              "      fill: #FFFFFF;\n",
              "    }\n",
              "  </style>\n",
              "\n",
              "      <script>\n",
              "        const buttonEl =\n",
              "          document.querySelector('#df-76f313cb-309f-4f20-bdcb-69d3784146c6 button.colab-df-convert');\n",
              "        buttonEl.style.display =\n",
              "          google.colab.kernel.accessAllowed ? 'block' : 'none';\n",
              "\n",
              "        async function convertToInteractive(key) {\n",
              "          const element = document.querySelector('#df-76f313cb-309f-4f20-bdcb-69d3784146c6');\n",
              "          const dataTable =\n",
              "            await google.colab.kernel.invokeFunction('convertToInteractive',\n",
              "                                                     [key], {});\n",
              "          if (!dataTable) return;\n",
              "\n",
              "          const docLinkHtml = 'Like what you see? Visit the ' +\n",
              "            '<a target=\"_blank\" href=https://colab.research.google.com/notebooks/data_table.ipynb>data table notebook</a>'\n",
              "            + ' to learn more about interactive tables.';\n",
              "          element.innerHTML = '';\n",
              "          dataTable['output_type'] = 'display_data';\n",
              "          await google.colab.output.renderOutput(dataTable, element);\n",
              "          const docLink = document.createElement('div');\n",
              "          docLink.innerHTML = docLinkHtml;\n",
              "          element.appendChild(docLink);\n",
              "        }\n",
              "      </script>\n",
              "    </div>\n",
              "  </div>\n",
              "  "
            ]
          },
          "metadata": {},
          "execution_count": 15
        }
      ],
      "source": [
        "eth.head()"
      ]
    },
    {
      "cell_type": "markdown",
      "metadata": {
        "id": "VU4czoDSLfWu"
      },
      "source": [
        "![green-divider](https://user-images.githubusercontent.com/7065401/52071924-c003ad80-2562-11e9-8297-1c6595f8a7ff.png)\n",
        "\n",
        "### Bonus: Dynamic plots with Bokeh\n",
        "\n",
        "We've also included [Bokeh](https://bokeh.pydata.org/) as part of this main distribution. Bokeh is a plotting library that generates interactive plots, that can be manipulated right within your browser.\n",
        "\n",
        "We first need to import the libraries:"
      ]
    },
    {
      "cell_type": "code",
      "execution_count": 16,
      "metadata": {
        "id": "6ho3ZKUgLfWu"
      },
      "outputs": [],
      "source": [
        "from bokeh.plotting import figure, output_file, show\n",
        "from bokeh.io import output_notebook"
      ]
    },
    {
      "cell_type": "code",
      "execution_count": 17,
      "metadata": {
        "id": "ZIiW1LUULfWu"
      },
      "outputs": [],
      "source": [
        "output_notebook()"
      ]
    },
    {
      "cell_type": "markdown",
      "metadata": {
        "id": "CwPW_-soLfWv"
      },
      "source": [
        "And we generate the plot:"
      ]
    },
    {
      "cell_type": "code",
      "execution_count": 19,
      "metadata": {
        "id": "-yxRsm8LLfWv",
        "outputId": "9b1df2e8-5bee-4090-a2d0-f41751ef6f73",
        "colab": {
          "base_uri": "https://localhost:8080/",
          "height": 634
        }
      },
      "outputs": [
        {
          "output_type": "stream",
          "name": "stderr",
          "text": [
            "BokehDeprecationWarning: 'legend' keyword is deprecated, use explicit 'legend_label', 'legend_field', or 'legend_group' keywords instead\n"
          ]
        },
        {
          "output_type": "display_data",
          "data": {
            "application/javascript": [
              "\n",
              "(function(root) {\n",
              "  function now() {\n",
              "    return new Date();\n",
              "  }\n",
              "\n",
              "  var force = true;\n",
              "\n",
              "  if (typeof root._bokeh_onload_callbacks === \"undefined\" || force === true) {\n",
              "    root._bokeh_onload_callbacks = [];\n",
              "    root._bokeh_is_loading = undefined;\n",
              "  }\n",
              "\n",
              "  var JS_MIME_TYPE = 'application/javascript';\n",
              "  var HTML_MIME_TYPE = 'text/html';\n",
              "  var EXEC_MIME_TYPE = 'application/vnd.bokehjs_exec.v0+json';\n",
              "  var CLASS_NAME = 'output_bokeh rendered_html';\n",
              "\n",
              "  /**\n",
              "   * Render data to the DOM node\n",
              "   */\n",
              "  function render(props, node) {\n",
              "    var script = document.createElement(\"script\");\n",
              "    node.appendChild(script);\n",
              "  }\n",
              "\n",
              "  /**\n",
              "   * Handle when an output is cleared or removed\n",
              "   */\n",
              "  function handleClearOutput(event, handle) {\n",
              "    var cell = handle.cell;\n",
              "\n",
              "    var id = cell.output_area._bokeh_element_id;\n",
              "    var server_id = cell.output_area._bokeh_server_id;\n",
              "    // Clean up Bokeh references\n",
              "    if (id != null && id in Bokeh.index) {\n",
              "      Bokeh.index[id].model.document.clear();\n",
              "      delete Bokeh.index[id];\n",
              "    }\n",
              "\n",
              "    if (server_id !== undefined) {\n",
              "      // Clean up Bokeh references\n",
              "      var cmd = \"from bokeh.io.state import curstate; print(curstate().uuid_to_server['\" + server_id + \"'].get_sessions()[0].document.roots[0]._id)\";\n",
              "      cell.notebook.kernel.execute(cmd, {\n",
              "        iopub: {\n",
              "          output: function(msg) {\n",
              "            var id = msg.content.text.trim();\n",
              "            if (id in Bokeh.index) {\n",
              "              Bokeh.index[id].model.document.clear();\n",
              "              delete Bokeh.index[id];\n",
              "            }\n",
              "          }\n",
              "        }\n",
              "      });\n",
              "      // Destroy server and session\n",
              "      var cmd = \"import bokeh.io.notebook as ion; ion.destroy_server('\" + server_id + \"')\";\n",
              "      cell.notebook.kernel.execute(cmd);\n",
              "    }\n",
              "  }\n",
              "\n",
              "  /**\n",
              "   * Handle when a new output is added\n",
              "   */\n",
              "  function handleAddOutput(event, handle) {\n",
              "    var output_area = handle.output_area;\n",
              "    var output = handle.output;\n",
              "\n",
              "    // limit handleAddOutput to display_data with EXEC_MIME_TYPE content only\n",
              "    if ((output.output_type != \"display_data\") || (!Object.prototype.hasOwnProperty.call(output.data, EXEC_MIME_TYPE))) {\n",
              "      return\n",
              "    }\n",
              "\n",
              "    var toinsert = output_area.element.find(\".\" + CLASS_NAME.split(' ')[0]);\n",
              "\n",
              "    if (output.metadata[EXEC_MIME_TYPE][\"id\"] !== undefined) {\n",
              "      toinsert[toinsert.length - 1].firstChild.textContent = output.data[JS_MIME_TYPE];\n",
              "      // store reference to embed id on output_area\n",
              "      output_area._bokeh_element_id = output.metadata[EXEC_MIME_TYPE][\"id\"];\n",
              "    }\n",
              "    if (output.metadata[EXEC_MIME_TYPE][\"server_id\"] !== undefined) {\n",
              "      var bk_div = document.createElement(\"div\");\n",
              "      bk_div.innerHTML = output.data[HTML_MIME_TYPE];\n",
              "      var script_attrs = bk_div.children[0].attributes;\n",
              "      for (var i = 0; i < script_attrs.length; i++) {\n",
              "        toinsert[toinsert.length - 1].firstChild.setAttribute(script_attrs[i].name, script_attrs[i].value);\n",
              "        toinsert[toinsert.length - 1].firstChild.textContent = bk_div.children[0].textContent\n",
              "      }\n",
              "      // store reference to server id on output_area\n",
              "      output_area._bokeh_server_id = output.metadata[EXEC_MIME_TYPE][\"server_id\"];\n",
              "    }\n",
              "  }\n",
              "\n",
              "  function register_renderer(events, OutputArea) {\n",
              "\n",
              "    function append_mime(data, metadata, element) {\n",
              "      // create a DOM node to render to\n",
              "      var toinsert = this.create_output_subarea(\n",
              "        metadata,\n",
              "        CLASS_NAME,\n",
              "        EXEC_MIME_TYPE\n",
              "      );\n",
              "      this.keyboard_manager.register_events(toinsert);\n",
              "      // Render to node\n",
              "      var props = {data: data, metadata: metadata[EXEC_MIME_TYPE]};\n",
              "      render(props, toinsert[toinsert.length - 1]);\n",
              "      element.append(toinsert);\n",
              "      return toinsert\n",
              "    }\n",
              "\n",
              "    /* Handle when an output is cleared or removed */\n",
              "    events.on('clear_output.CodeCell', handleClearOutput);\n",
              "    events.on('delete.Cell', handleClearOutput);\n",
              "\n",
              "    /* Handle when a new output is added */\n",
              "    events.on('output_added.OutputArea', handleAddOutput);\n",
              "\n",
              "    /**\n",
              "     * Register the mime type and append_mime function with output_area\n",
              "     */\n",
              "    OutputArea.prototype.register_mime_type(EXEC_MIME_TYPE, append_mime, {\n",
              "      /* Is output safe? */\n",
              "      safe: true,\n",
              "      /* Index of renderer in `output_area.display_order` */\n",
              "      index: 0\n",
              "    });\n",
              "  }\n",
              "\n",
              "  // register the mime type if in Jupyter Notebook environment and previously unregistered\n",
              "  if (root.Jupyter !== undefined) {\n",
              "    var events = require('base/js/events');\n",
              "    var OutputArea = require('notebook/js/outputarea').OutputArea;\n",
              "\n",
              "    if (OutputArea.prototype.mime_types().indexOf(EXEC_MIME_TYPE) == -1) {\n",
              "      register_renderer(events, OutputArea);\n",
              "    }\n",
              "  }\n",
              "\n",
              "  \n",
              "  if (typeof (root._bokeh_timeout) === \"undefined\" || force === true) {\n",
              "    root._bokeh_timeout = Date.now() + 5000;\n",
              "    root._bokeh_failed_load = false;\n",
              "  }\n",
              "\n",
              "  var NB_LOAD_WARNING = {'data': {'text/html':\n",
              "     \"<div style='background-color: #fdd'>\\n\"+\n",
              "     \"<p>\\n\"+\n",
              "     \"BokehJS does not appear to have successfully loaded. If loading BokehJS from CDN, this \\n\"+\n",
              "     \"may be due to a slow or bad network connection. Possible fixes:\\n\"+\n",
              "     \"</p>\\n\"+\n",
              "     \"<ul>\\n\"+\n",
              "     \"<li>re-rerun `output_notebook()` to attempt to load from CDN again, or</li>\\n\"+\n",
              "     \"<li>use INLINE resources instead, as so:</li>\\n\"+\n",
              "     \"</ul>\\n\"+\n",
              "     \"<code>\\n\"+\n",
              "     \"from bokeh.resources import INLINE\\n\"+\n",
              "     \"output_notebook(resources=INLINE)\\n\"+\n",
              "     \"</code>\\n\"+\n",
              "     \"</div>\"}};\n",
              "\n",
              "  function display_loaded() {\n",
              "    var el = document.getElementById(null);\n",
              "    if (el != null) {\n",
              "      el.textContent = \"BokehJS is loading...\";\n",
              "    }\n",
              "    if (root.Bokeh !== undefined) {\n",
              "      if (el != null) {\n",
              "        el.textContent = \"BokehJS \" + root.Bokeh.version + \" successfully loaded.\";\n",
              "      }\n",
              "    } else if (Date.now() < root._bokeh_timeout) {\n",
              "      setTimeout(display_loaded, 100)\n",
              "    }\n",
              "  }\n",
              "\n",
              "\n",
              "  function run_callbacks() {\n",
              "    try {\n",
              "      root._bokeh_onload_callbacks.forEach(function(callback) {\n",
              "        if (callback != null)\n",
              "          callback();\n",
              "      });\n",
              "    } finally {\n",
              "      delete root._bokeh_onload_callbacks\n",
              "    }\n",
              "    console.debug(\"Bokeh: all callbacks have finished\");\n",
              "  }\n",
              "\n",
              "  function load_libs(css_urls, js_urls, callback) {\n",
              "    if (css_urls == null) css_urls = [];\n",
              "    if (js_urls == null) js_urls = [];\n",
              "\n",
              "    root._bokeh_onload_callbacks.push(callback);\n",
              "    if (root._bokeh_is_loading > 0) {\n",
              "      console.debug(\"Bokeh: BokehJS is being loaded, scheduling callback at\", now());\n",
              "      return null;\n",
              "    }\n",
              "    if (js_urls == null || js_urls.length === 0) {\n",
              "      run_callbacks();\n",
              "      return null;\n",
              "    }\n",
              "    console.debug(\"Bokeh: BokehJS not loaded, scheduling load and callback at\", now());\n",
              "    root._bokeh_is_loading = css_urls.length + js_urls.length;\n",
              "\n",
              "    function on_load() {\n",
              "      root._bokeh_is_loading--;\n",
              "      if (root._bokeh_is_loading === 0) {\n",
              "        console.debug(\"Bokeh: all BokehJS libraries/stylesheets loaded\");\n",
              "        run_callbacks()\n",
              "      }\n",
              "    }\n",
              "\n",
              "    function on_error(url) {\n",
              "      console.error(\"failed to load \" + url);\n",
              "    }\n",
              "\n",
              "    for (let i = 0; i < css_urls.length; i++) {\n",
              "      const url = css_urls[i];\n",
              "      const element = document.createElement(\"link\");\n",
              "      element.onload = on_load;\n",
              "      element.onerror = on_error.bind(null, url);\n",
              "      element.rel = \"stylesheet\";\n",
              "      element.type = \"text/css\";\n",
              "      element.href = url;\n",
              "      console.debug(\"Bokeh: injecting link tag for BokehJS stylesheet: \", url);\n",
              "      document.body.appendChild(element);\n",
              "    }\n",
              "\n",
              "    const hashes = {\"https://cdn.bokeh.org/bokeh/release/bokeh-2.3.3.min.js\": \"dM3QQsP+wXdHg42wTqW85BjZQdLNNIXqlPw/BgKoExPmTG7ZLML4EGqLMfqHT6ON\", \"https://cdn.bokeh.org/bokeh/release/bokeh-tables-2.3.3.min.js\": \"8x57I4YuIfu8XyZfFo0XVr2WAT8EK4rh/uDe3wF7YuW2FNUSNEpJbsPaB1nJ2fz2\", \"https://cdn.bokeh.org/bokeh/release/bokeh-widgets-2.3.3.min.js\": \"3QTqdz9LyAm2i0sG5XTePsHec3UHWwVsrOL68SYRoAXsafvfAyqtQ+h440+qIBhS\"};\n",
              "\n",
              "    for (let i = 0; i < js_urls.length; i++) {\n",
              "      const url = js_urls[i];\n",
              "      const element = document.createElement('script');\n",
              "      element.onload = on_load;\n",
              "      element.onerror = on_error.bind(null, url);\n",
              "      element.async = false;\n",
              "      element.src = url;\n",
              "      if (url in hashes) {\n",
              "        element.crossOrigin = \"anonymous\";\n",
              "        element.integrity = \"sha384-\" + hashes[url];\n",
              "      }\n",
              "      console.debug(\"Bokeh: injecting script tag for BokehJS library: \", url);\n",
              "      document.head.appendChild(element);\n",
              "    }\n",
              "  };\n",
              "\n",
              "  function inject_raw_css(css) {\n",
              "    const element = document.createElement(\"style\");\n",
              "    element.appendChild(document.createTextNode(css));\n",
              "    document.body.appendChild(element);\n",
              "  }\n",
              "\n",
              "  \n",
              "  var js_urls = [\"https://cdn.bokeh.org/bokeh/release/bokeh-2.3.3.min.js\", \"https://cdn.bokeh.org/bokeh/release/bokeh-widgets-2.3.3.min.js\", \"https://cdn.bokeh.org/bokeh/release/bokeh-tables-2.3.3.min.js\"];\n",
              "  var css_urls = [];\n",
              "  \n",
              "\n",
              "  var inline_js = [\n",
              "    function(Bokeh) {\n",
              "      Bokeh.set_log_level(\"info\");\n",
              "    },\n",
              "    function(Bokeh) {\n",
              "    \n",
              "    \n",
              "    }\n",
              "  ];\n",
              "\n",
              "  function run_inline_js() {\n",
              "    \n",
              "    if (root.Bokeh !== undefined || force === true) {\n",
              "      \n",
              "    for (var i = 0; i < inline_js.length; i++) {\n",
              "      inline_js[i].call(root, root.Bokeh);\n",
              "    }\n",
              "    } else if (Date.now() < root._bokeh_timeout) {\n",
              "      setTimeout(run_inline_js, 100);\n",
              "    } else if (!root._bokeh_failed_load) {\n",
              "      console.log(\"Bokeh: BokehJS failed to load within specified timeout.\");\n",
              "      root._bokeh_failed_load = true;\n",
              "    } else if (force !== true) {\n",
              "      var cell = $(document.getElementById(null)).parents('.cell').data().cell;\n",
              "      cell.output_area.append_execute_result(NB_LOAD_WARNING)\n",
              "    }\n",
              "\n",
              "  }\n",
              "\n",
              "  if (root._bokeh_is_loading === 0) {\n",
              "    console.debug(\"Bokeh: BokehJS loaded, going straight to plotting\");\n",
              "    run_inline_js();\n",
              "  } else {\n",
              "    load_libs(css_urls, js_urls, function() {\n",
              "      console.debug(\"Bokeh: BokehJS plotting callback run at\", now());\n",
              "      run_inline_js();\n",
              "    });\n",
              "  }\n",
              "}(window));"
            ],
            "application/vnd.bokehjs_load.v0+json": "\n(function(root) {\n  function now() {\n    return new Date();\n  }\n\n  var force = true;\n\n  if (typeof root._bokeh_onload_callbacks === \"undefined\" || force === true) {\n    root._bokeh_onload_callbacks = [];\n    root._bokeh_is_loading = undefined;\n  }\n\n  \n\n  \n  if (typeof (root._bokeh_timeout) === \"undefined\" || force === true) {\n    root._bokeh_timeout = Date.now() + 5000;\n    root._bokeh_failed_load = false;\n  }\n\n  var NB_LOAD_WARNING = {'data': {'text/html':\n     \"<div style='background-color: #fdd'>\\n\"+\n     \"<p>\\n\"+\n     \"BokehJS does not appear to have successfully loaded. If loading BokehJS from CDN, this \\n\"+\n     \"may be due to a slow or bad network connection. Possible fixes:\\n\"+\n     \"</p>\\n\"+\n     \"<ul>\\n\"+\n     \"<li>re-rerun `output_notebook()` to attempt to load from CDN again, or</li>\\n\"+\n     \"<li>use INLINE resources instead, as so:</li>\\n\"+\n     \"</ul>\\n\"+\n     \"<code>\\n\"+\n     \"from bokeh.resources import INLINE\\n\"+\n     \"output_notebook(resources=INLINE)\\n\"+\n     \"</code>\\n\"+\n     \"</div>\"}};\n\n  function display_loaded() {\n    var el = document.getElementById(null);\n    if (el != null) {\n      el.textContent = \"BokehJS is loading...\";\n    }\n    if (root.Bokeh !== undefined) {\n      if (el != null) {\n        el.textContent = \"BokehJS \" + root.Bokeh.version + \" successfully loaded.\";\n      }\n    } else if (Date.now() < root._bokeh_timeout) {\n      setTimeout(display_loaded, 100)\n    }\n  }\n\n\n  function run_callbacks() {\n    try {\n      root._bokeh_onload_callbacks.forEach(function(callback) {\n        if (callback != null)\n          callback();\n      });\n    } finally {\n      delete root._bokeh_onload_callbacks\n    }\n    console.debug(\"Bokeh: all callbacks have finished\");\n  }\n\n  function load_libs(css_urls, js_urls, callback) {\n    if (css_urls == null) css_urls = [];\n    if (js_urls == null) js_urls = [];\n\n    root._bokeh_onload_callbacks.push(callback);\n    if (root._bokeh_is_loading > 0) {\n      console.debug(\"Bokeh: BokehJS is being loaded, scheduling callback at\", now());\n      return null;\n    }\n    if (js_urls == null || js_urls.length === 0) {\n      run_callbacks();\n      return null;\n    }\n    console.debug(\"Bokeh: BokehJS not loaded, scheduling load and callback at\", now());\n    root._bokeh_is_loading = css_urls.length + js_urls.length;\n\n    function on_load() {\n      root._bokeh_is_loading--;\n      if (root._bokeh_is_loading === 0) {\n        console.debug(\"Bokeh: all BokehJS libraries/stylesheets loaded\");\n        run_callbacks()\n      }\n    }\n\n    function on_error(url) {\n      console.error(\"failed to load \" + url);\n    }\n\n    for (let i = 0; i < css_urls.length; i++) {\n      const url = css_urls[i];\n      const element = document.createElement(\"link\");\n      element.onload = on_load;\n      element.onerror = on_error.bind(null, url);\n      element.rel = \"stylesheet\";\n      element.type = \"text/css\";\n      element.href = url;\n      console.debug(\"Bokeh: injecting link tag for BokehJS stylesheet: \", url);\n      document.body.appendChild(element);\n    }\n\n    const hashes = {\"https://cdn.bokeh.org/bokeh/release/bokeh-2.3.3.min.js\": \"dM3QQsP+wXdHg42wTqW85BjZQdLNNIXqlPw/BgKoExPmTG7ZLML4EGqLMfqHT6ON\", \"https://cdn.bokeh.org/bokeh/release/bokeh-tables-2.3.3.min.js\": \"8x57I4YuIfu8XyZfFo0XVr2WAT8EK4rh/uDe3wF7YuW2FNUSNEpJbsPaB1nJ2fz2\", \"https://cdn.bokeh.org/bokeh/release/bokeh-widgets-2.3.3.min.js\": \"3QTqdz9LyAm2i0sG5XTePsHec3UHWwVsrOL68SYRoAXsafvfAyqtQ+h440+qIBhS\"};\n\n    for (let i = 0; i < js_urls.length; i++) {\n      const url = js_urls[i];\n      const element = document.createElement('script');\n      element.onload = on_load;\n      element.onerror = on_error.bind(null, url);\n      element.async = false;\n      element.src = url;\n      if (url in hashes) {\n        element.crossOrigin = \"anonymous\";\n        element.integrity = \"sha384-\" + hashes[url];\n      }\n      console.debug(\"Bokeh: injecting script tag for BokehJS library: \", url);\n      document.head.appendChild(element);\n    }\n  };\n\n  function inject_raw_css(css) {\n    const element = document.createElement(\"style\");\n    element.appendChild(document.createTextNode(css));\n    document.body.appendChild(element);\n  }\n\n  \n  var js_urls = [\"https://cdn.bokeh.org/bokeh/release/bokeh-2.3.3.min.js\", \"https://cdn.bokeh.org/bokeh/release/bokeh-widgets-2.3.3.min.js\", \"https://cdn.bokeh.org/bokeh/release/bokeh-tables-2.3.3.min.js\"];\n  var css_urls = [];\n  \n\n  var inline_js = [\n    function(Bokeh) {\n      Bokeh.set_log_level(\"info\");\n    },\n    function(Bokeh) {\n    \n    \n    }\n  ];\n\n  function run_inline_js() {\n    \n    if (root.Bokeh !== undefined || force === true) {\n      \n    for (var i = 0; i < inline_js.length; i++) {\n      inline_js[i].call(root, root.Bokeh);\n    }\n    } else if (Date.now() < root._bokeh_timeout) {\n      setTimeout(run_inline_js, 100);\n    } else if (!root._bokeh_failed_load) {\n      console.log(\"Bokeh: BokehJS failed to load within specified timeout.\");\n      root._bokeh_failed_load = true;\n    } else if (force !== true) {\n      var cell = $(document.getElementById(null)).parents('.cell').data().cell;\n      cell.output_area.append_execute_result(NB_LOAD_WARNING)\n    }\n\n  }\n\n  if (root._bokeh_is_loading === 0) {\n    console.debug(\"Bokeh: BokehJS loaded, going straight to plotting\");\n    run_inline_js();\n  } else {\n    load_libs(css_urls, js_urls, function() {\n      console.debug(\"Bokeh: BokehJS plotting callback run at\", now());\n      run_inline_js();\n    });\n  }\n}(window));"
          },
          "metadata": {}
        },
        {
          "output_type": "display_data",
          "data": {
            "text/html": [
              "\n",
              "\n",
              "\n",
              "\n",
              "\n",
              "\n",
              "  <div class=\"bk-root\" id=\"47795990-a462-4141-a135-d30827b67ab0\" data-root-id=\"1196\"></div>\n"
            ]
          },
          "metadata": {}
        },
        {
          "output_type": "display_data",
          "data": {
            "application/javascript": [
              "(function(root) {\n",
              "  function embed_document(root) {\n",
              "    \n",
              "  var docs_json = {\"cc554840-d834-474f-96c3-1e652be7784f\":{\"defs\":[],\"roots\":{\"references\":[{\"attributes\":{\"below\":[{\"id\":\"1207\"}],\"center\":[{\"id\":\"1210\"},{\"id\":\"1214\"},{\"id\":\"1256\"}],\"left\":[{\"id\":\"1211\"}],\"renderers\":[{\"id\":\"1232\"}],\"title\":{\"id\":\"1197\"},\"toolbar\":{\"id\":\"1222\"},\"width\":800,\"x_range\":{\"id\":\"1199\"},\"x_scale\":{\"id\":\"1203\"},\"y_range\":{\"id\":\"1201\"},\"y_scale\":{\"id\":\"1205\"}},\"id\":\"1196\",\"subtype\":\"Figure\",\"type\":\"Plot\"},{\"attributes\":{},\"id\":\"1220\",\"type\":\"HelpTool\"},{\"attributes\":{},\"id\":\"1201\",\"type\":\"DataRange1d\"},{\"attributes\":{\"axis_label\":\"Date\",\"formatter\":{\"id\":\"1236\"},\"major_label_policy\":{\"id\":\"1235\"},\"ticker\":{\"id\":\"1208\"}},\"id\":\"1207\",\"type\":\"DatetimeAxis\"},{\"attributes\":{},\"id\":\"1205\",\"type\":\"LinearScale\"},{\"attributes\":{\"num_minor_ticks\":5,\"tickers\":[{\"id\":\"1241\"},{\"id\":\"1242\"},{\"id\":\"1243\"},{\"id\":\"1244\"},{\"id\":\"1245\"},{\"id\":\"1246\"},{\"id\":\"1247\"},{\"id\":\"1248\"},{\"id\":\"1249\"},{\"id\":\"1250\"},{\"id\":\"1251\"},{\"id\":\"1252\"}]},\"id\":\"1208\",\"type\":\"DatetimeTicker\"},{\"attributes\":{\"days\":[1,15]},\"id\":\"1247\",\"type\":\"DaysTicker\"},{\"attributes\":{\"axis\":{\"id\":\"1211\"},\"dimension\":1,\"grid_line_alpha\":0.3,\"ticker\":null},\"id\":\"1214\",\"type\":\"Grid\"},{\"attributes\":{},\"id\":\"1235\",\"type\":\"AllLabels\"},{\"attributes\":{\"months\":[0,2,4,6,8,10]},\"id\":\"1249\",\"type\":\"MonthsTicker\"},{\"attributes\":{},\"id\":\"1236\",\"type\":\"DatetimeTickFormatter\"},{\"attributes\":{},\"id\":\"1219\",\"type\":\"ResetTool\"},{\"attributes\":{\"axis\":{\"id\":\"1207\"},\"grid_line_alpha\":0.3,\"ticker\":null},\"id\":\"1210\",\"type\":\"Grid\"},{\"attributes\":{},\"id\":\"1252\",\"type\":\"YearsTicker\"},{\"attributes\":{},\"id\":\"1238\",\"type\":\"AllLabels\"},{\"attributes\":{\"base\":60,\"mantissas\":[1,2,5,10,15,20,30],\"max_interval\":1800000.0,\"min_interval\":1000.0,\"num_minor_ticks\":0},\"id\":\"1242\",\"type\":\"AdaptiveTicker\"},{\"attributes\":{},\"id\":\"1212\",\"type\":\"BasicTicker\"},{\"attributes\":{},\"id\":\"1254\",\"type\":\"UnionRenderers\"},{\"attributes\":{\"axis_label\":\"Price\",\"formatter\":{\"id\":\"1239\"},\"major_label_policy\":{\"id\":\"1238\"},\"ticker\":{\"id\":\"1212\"}},\"id\":\"1211\",\"type\":\"LinearAxis\"},{\"attributes\":{\"line_alpha\":0.1,\"line_color\":\"#A6CEE3\",\"x\":{\"field\":\"x\"},\"y\":{\"field\":\"y\"}},\"id\":\"1231\",\"type\":\"Line\"},{\"attributes\":{\"bottom_units\":\"screen\",\"fill_alpha\":0.5,\"fill_color\":\"lightgrey\",\"left_units\":\"screen\",\"level\":\"overlay\",\"line_alpha\":1.0,\"line_color\":\"black\",\"line_dash\":[4,4],\"line_width\":2,\"right_units\":\"screen\",\"syncable\":false,\"top_units\":\"screen\"},\"id\":\"1221\",\"type\":\"BoxAnnotation\"},{\"attributes\":{\"mantissas\":[1,2,5],\"max_interval\":500.0,\"num_minor_ticks\":0},\"id\":\"1241\",\"type\":\"AdaptiveTicker\"},{\"attributes\":{},\"id\":\"1199\",\"type\":\"DataRange1d\"},{\"attributes\":{},\"id\":\"1239\",\"type\":\"BasicTickFormatter\"},{\"attributes\":{\"months\":[0,1,2,3,4,5,6,7,8,9,10,11]},\"id\":\"1248\",\"type\":\"MonthsTicker\"},{\"attributes\":{\"days\":[1,2,3,4,5,6,7,8,9,10,11,12,13,14,15,16,17,18,19,20,21,22,23,24,25,26,27,28,29,30,31]},\"id\":\"1244\",\"type\":\"DaysTicker\"},{\"attributes\":{\"months\":[0,6]},\"id\":\"1251\",\"type\":\"MonthsTicker\"},{\"attributes\":{},\"id\":\"1253\",\"type\":\"Selection\"},{\"attributes\":{\"text\":\"Crypto Prices\"},\"id\":\"1197\",\"type\":\"Title\"},{\"attributes\":{\"line_color\":\"#A6CEE3\",\"x\":{\"field\":\"x\"},\"y\":{\"field\":\"y\"}},\"id\":\"1230\",\"type\":\"Line\"},{\"attributes\":{\"label\":{\"value\":\"Ether\"},\"renderers\":[{\"id\":\"1232\"}]},\"id\":\"1257\",\"type\":\"LegendItem\"},{\"attributes\":{\"days\":[1,8,15,22]},\"id\":\"1246\",\"type\":\"DaysTicker\"},{\"attributes\":{\"active_multi\":null,\"tools\":[{\"id\":\"1215\"},{\"id\":\"1216\"},{\"id\":\"1217\"},{\"id\":\"1218\"},{\"id\":\"1219\"},{\"id\":\"1220\"}]},\"id\":\"1222\",\"type\":\"Toolbar\"},{\"attributes\":{},\"id\":\"1215\",\"type\":\"PanTool\"},{\"attributes\":{\"base\":24,\"mantissas\":[1,2,4,6,8,12],\"max_interval\":43200000.0,\"min_interval\":3600000.0,\"num_minor_ticks\":0},\"id\":\"1243\",\"type\":\"AdaptiveTicker\"},{\"attributes\":{\"items\":[{\"id\":\"1257\"}],\"location\":\"top_left\"},\"id\":\"1256\",\"type\":\"Legend\"},{\"attributes\":{\"data\":{\"x\":{\"__ndarray__\":\"AACoOUYaeEIAAJCoSRp4QgAAeBdNGnhCAABghlAaeEIAAEj1Uxp4QgAAMGRXGnhCAAAY01oaeEIAAABCXhp4QgAA6LBhGnhCAADQH2UaeEIAALiOaBp4QgAAoP1rGnhCAACIbG8aeEIAAHDbchp4QgAAWEp2GnhCAABAuXkaeEIAACgofRp4QgAAEJeAGnhCAAD4BYQaeEIAAOB0hxp4QgAAyOOKGnhCAACwUo4aeEIAAJjBkRp4QgAAgDCVGnhCAABon5gaeEIAAFAOnBp4QgAAOH2fGnhCAAAg7KIaeEIAAAhbphp4QgAA8MmpGnhCAADYOK0aeEIAAMCnsBp4QgAAqBa0GnhCAACQhbcaeEIAAHj0uhp4QgAAYGO+GnhCAABI0sEaeEIAADBBxRp4QgAAGLDIGnhCAAAAH8waeEIAAOiNzxp4QgAA0PzSGnhCAAC4a9YaeEIAAKDa2Rp4QgAAiEndGnhCAABwuOAaeEIAAFgn5Bp4QgAAQJbnGnhCAAAoBesaeEIAABB07hp4QgAA+OLxGnhCAADgUfUaeEIAAMjA+Bp4QgAAsC/8GnhCAACYnv8aeEIAAIANAxt4QgAAaHwGG3hCAABQ6wkbeEIAADhaDRt4QgAAIMkQG3hCAAAIOBQbeEIAAPCmFxt4QgAA2BUbG3hCAADAhB4beEIAAKjzIRt4QgAAkGIlG3hCAAB40SgbeEIAAGBALBt4QgAASK8vG3hCAAAwHjMbeEIAABiNNht4QgAAAPw5G3hCAADoaj0beEIAANDZQBt4QgAAuEhEG3hCAACgt0cbeEIAAIgmSxt4QgAAcJVOG3hCAABYBFIbeEIAAEBzVRt4QgAAKOJYG3hCAAAQUVwbeEIAAPi/Xxt4QgAA4C5jG3hCAADInWYbeEIAALAMaht4QgAAmHttG3hCAACA6nAbeEIAAGhZdBt4QgAAUMh3G3hCAAA4N3sbeEIAACCmfht4QgAACBWCG3hCAADwg4UbeEIAANjyiBt4QgAAwGGMG3hCAACo0I8beEIAAJA/kxt4QgAAeK6WG3hCAABgHZobeEIAAEiMnRt4QgAAMPugG3hCAAAYaqQbeEIAAADZpxt4QgAA6EerG3hCAADQtq4beEIAALglsht4QgAAoJS1G3hCAACIA7kbeEIAAHByvBt4QgAAWOG/G3hCAABAUMMbeEIAACi/xht4QgAAEC7KG3hCAAD4nM0beEIAAOAL0Rt4QgAAyHrUG3hCAACw6dcbeEIAAJhY2xt4QgAAgMfeG3hCAABoNuIbeEIAAFCl5Rt4QgAAOBTpG3hCAAAgg+wbeEIAAAjy7xt4QgAA8GDzG3hCAADYz/YbeEIAAMA++ht4QgAAqK39G3hCAACQHAEceEIAAHiLBBx4QgAAYPoHHHhCAABIaQsceEIAADDYDhx4QgAAGEcSHHhCAAAAthUceEIAAOgkGRx4QgAA0JMcHHhCAAC4AiAceEIAAKBxIxx4QgAAiOAmHHhCAABwTyoceEIAAFi+LRx4QgAAQC0xHHhCAAAonDQceEIAABALOBx4QgAA+Hk7HHhCAADg6D4ceEIAAMhXQhx4QgAAsMZFHHhCAACYNUkceEIAAICkTBx4QgAAaBNQHHhCAABQglMceEIAADjxVhx4QgAAIGBaHHhCAAAIz10ceEIAAPA9YRx4QgAA2KxkHHhCAADAG2gceEIAAKiKaxx4QgAAkPluHHhCAAB4aHIceEIAAGDXdRx4QgAASEZ5HHhCAAAwtXwceEIAABgkgBx4QgAAAJODHHhCAADoAYcceEI=\",\"dtype\":\"float64\",\"order\":\"little\",\"shape\":[169]},\"y\":{\"__ndarray__\":\"9ihcj8JCk0C4HoXrUUWTQFyPwvUoQ5NAFK5H4XoOk0DhehSuR/uSQI/C9Shcd5JAj8L1KFyakkBcj8L1KIqSQMP1KFyPj5JAcT0K16OHkkAUrkfheraSQLgehetRsJJAj8L1KFzHkkBcj8L1KLqSQEjhehSuxZJApHA9CteYkkBcj8L1KIaSQFK4HoXrSJJAH4XrUbhZkkBmZmZmZnSSQGZmZmZmhZJAUrgehet/kkDNzMzMzLySQEjhehSu2pJAH4XrUbgdk0BI4XoUrhyTQLgehetRFJNAH4XrUbgXk0DXo3A9ChOTQOF6FK5HK5NAmpmZmZnCkkCkcD0K13WSQK5H4XoUkZJAZmZmZmZikkDsUbgehSWSQK5H4XoUDZJA4XoUrkcjkkDXo3A9CjuSQFyPwvUo6pFArkfhehTakUDNzMzMzMyRQOxRuB6F9pFAmpmZmZnykUC4HoXrUeCRQHE9Ctej8ZFAFK5H4XqskUAUrkfheniRQGZmZmZmpJFAH4XrUbiPkUBxPQrXo5+RQHsUrkfhmJFAuB6F61FzkUDhehSuR0SRQMP1KFyPTpFAcT0K16NskUBmZmZmZl+RQDMzMzMzK5FAw/UoXI89kUBxPQrXozeRQD0K16Nwc5FA4XoUrkdQkUApXI/C9WORQArXo3A9UpFApHA9CtcpkUAzMzMzMxORQI/C9Shc+ZBAzczMzMwKkUAAAAAAABSRQGZmZmZmCpFArkfhehQCkUCPwvUoXImQQAAAAAAAgpBAH4XrUbhikEDNzMzMzAuQQOxRuB6F649AMzMzMzPJj0Bcj8L1KB2QQDMzMzMzb49Aw/UoXI8LkECuR+F6FBmQQOF6FK5HIZBAPQrXo3AmkEB7FK5H4dyPQOF6FK5H3Y9Aj8L1KFyTj0DNzMzMzOSPQPYoXI/C8Y9A7FG4HoW8kEBI4XoUrhiRQDMzMzMzJJFAZmZmZmYVkUApXI/C9XeQQDMzMzMzY5BAH4XrUbh9kEDNzMzMzHqQQPYoXI/CppBAH4XrUbitkEBSuB6F65iQQM3MzMzMNpBAKVyPwvVkkEAUrkfhemCQQMP1KFyPkpBApHA9Ctd/kECF61G4HoOQQClcj8L1o5BArkfhehTEkECamZmZmbqQQK5H4XoUqZBA7FG4HoWxkEAK16NwPbCQQHE9CtejnpBAXI/C9SiJkECF61G4HmyQQOxRuB6Fh5BArkfhehRBkEDhehSuRzSQQFK4HoXrUJBArkfhehRSkEAAAAAAAFeQQEjhehSuQpBAexSuR+EykEC4HoXrUT+QQHsUrkfhUZBApHA9CtdJkECamZmZmYSQQDMzMzMzbpBAj8L1KFx6kEBmZmZmZm6QQFyPwvUokpBA7FG4HoWZkEBxPQrXo7SQQHE9CtejpJBA16NwPQqbkEA9CtejcMCQQNejcD0KtpBACtejcD2mkEC4HoXrUZmQQLgehetRgpBAmpmZmZmQkEAAAAAAAJaQQK5H4XoUuJBAzczMzMx/kEDsUbgehZuQQFK4HoXrmpBAKVyPwvWCkECF61G4HoeQQEjhehSukJBAhetRuB6PkECamZmZmXeQQJqZmZmZRpBAexSuR+FokECPwvUoXGWQQKRwPQrXf5BAw/UoXI+LkEAUrkfheoqQQM3MzMzM0ZBAUrgehevukEAK16NwPcyQQAAAAAAAy5BAAAAAAADFkECuR+F6FMCQQClcj8L1xZBAmpmZmZlnkEAzMzMzM2mQQLgehetRe5BArkfhehR0kEDhehSuR1aQQIXrUbgeZpBAw/UoXI9vkEA=\",\"dtype\":\"float64\",\"order\":\"little\",\"shape\":[169]}},\"selected\":{\"id\":\"1253\"},\"selection_policy\":{\"id\":\"1254\"}},\"id\":\"1229\",\"type\":\"ColumnDataSource\"},{\"attributes\":{},\"id\":\"1216\",\"type\":\"WheelZoomTool\"},{\"attributes\":{\"days\":[1,4,7,10,13,16,19,22,25,28]},\"id\":\"1245\",\"type\":\"DaysTicker\"},{\"attributes\":{\"overlay\":{\"id\":\"1221\"}},\"id\":\"1217\",\"type\":\"BoxZoomTool\"},{\"attributes\":{\"source\":{\"id\":\"1229\"}},\"id\":\"1233\",\"type\":\"CDSView\"},{\"attributes\":{},\"id\":\"1218\",\"type\":\"SaveTool\"},{\"attributes\":{\"months\":[0,4,8]},\"id\":\"1250\",\"type\":\"MonthsTicker\"},{\"attributes\":{\"data_source\":{\"id\":\"1229\"},\"glyph\":{\"id\":\"1230\"},\"hover_glyph\":null,\"muted_glyph\":null,\"nonselection_glyph\":{\"id\":\"1231\"},\"view\":{\"id\":\"1233\"}},\"id\":\"1232\",\"type\":\"GlyphRenderer\"},{\"attributes\":{},\"id\":\"1203\",\"type\":\"LinearScale\"}],\"root_ids\":[\"1196\"]},\"title\":\"Bokeh Application\",\"version\":\"2.3.3\"}};\n",
              "  var render_items = [{\"docid\":\"cc554840-d834-474f-96c3-1e652be7784f\",\"root_ids\":[\"1196\"],\"roots\":{\"1196\":\"47795990-a462-4141-a135-d30827b67ab0\"}}];\n",
              "  root.Bokeh.embed.embed_items_notebook(docs_json, render_items);\n",
              "\n",
              "  }\n",
              "  if (root.Bokeh !== undefined) {\n",
              "    embed_document(root);\n",
              "  } else {\n",
              "    var attempts = 0;\n",
              "    var timer = setInterval(function(root) {\n",
              "      if (root.Bokeh !== undefined) {\n",
              "        clearInterval(timer);\n",
              "        embed_document(root);\n",
              "      } else {\n",
              "        attempts++;\n",
              "        if (attempts > 100) {\n",
              "          clearInterval(timer);\n",
              "          console.log(\"Bokeh: ERROR: Unable to run BokehJS code because BokehJS library is missing\");\n",
              "        }\n",
              "      }\n",
              "    }, 10, root)\n",
              "  }\n",
              "})(window);"
            ],
            "application/vnd.bokehjs_exec.v0+json": ""
          },
          "metadata": {
            "application/vnd.bokehjs_exec.v0+json": {
              "id": "1196"
            }
          }
        }
      ],
      "source": [
        "p1 = figure(x_axis_type=\"datetime\", title=\"Crypto Prices\", width=800)\n",
        "p1.grid.grid_line_alpha=0.3\n",
        "p1.xaxis.axis_label = 'Date'\n",
        "p1.yaxis.axis_label = 'Price'\n",
        "\n",
        "# p1.line(btc.index, btc['ClosePrice'], color='#f2a900', legend='Bitcoin')\n",
        "p1.line(eth.index, eth['ClosePrice'], color='#A6CEE3', legend='Ether')\n",
        "\n",
        "p1.legend.location = \"top_left\"\n",
        "\n",
        "show(p1)"
      ]
    },
    {
      "cell_type": "markdown",
      "metadata": {
        "id": "miaUqazyLfWv"
      },
      "source": [
        "☝️ as you can see, the plot is interactive. Try zomming in and out, and scrolling in the plot."
      ]
    },
    {
      "cell_type": "markdown",
      "metadata": {
        "id": "RCrkN68ALfWv"
      },
      "source": [
        "![green-divider](https://user-images.githubusercontent.com/7065401/52071924-c003ad80-2562-11e9-8297-1c6595f8a7ff.png)\n",
        "\n",
        "## Part 4: Exporting to Excel\n",
        "\n",
        "We're now ready to generate an Excel file from the downloaded prices. Working with Excel and other formats (like CSV or JSON) is extremely simple in Jupyter Lab (thanks to pandas and Python). Our first step will be to create an \"Excel writer\", a component from the `pandas` package:"
      ]
    },
    {
      "cell_type": "code",
      "execution_count": 20,
      "metadata": {
        "id": "Xjjs8kJJLfWv"
      },
      "outputs": [],
      "source": [
        "writer = pd.ExcelWriter('cryptos.xlsx')"
      ]
    },
    {
      "cell_type": "markdown",
      "metadata": {
        "id": "3pYbqL6bLfWw"
      },
      "source": [
        "We'll now write both our Bitcoin and Ether data as separate sheets:"
      ]
    },
    {
      "cell_type": "code",
      "execution_count": 21,
      "metadata": {
        "id": "dWb7rBh_LfWw"
      },
      "outputs": [],
      "source": [
        "btc.to_excel(writer, sheet_name='Bitcoin')"
      ]
    },
    {
      "cell_type": "code",
      "execution_count": 22,
      "metadata": {
        "id": "hw2MSZIvLfWw"
      },
      "outputs": [],
      "source": [
        "eth.to_excel(writer, sheet_name='Ether')"
      ]
    },
    {
      "cell_type": "markdown",
      "metadata": {
        "id": "D6QjEInyLfWx"
      },
      "source": [
        "And finally, we can save the file:"
      ]
    },
    {
      "cell_type": "code",
      "execution_count": 23,
      "metadata": {
        "id": "fKUFDfl5LfWy"
      },
      "outputs": [],
      "source": [
        "writer.save()"
      ]
    },
    {
      "cell_type": "markdown",
      "metadata": {
        "id": "RGisUXq5LfWy"
      },
      "source": [
        "Once you've saved the file, you should see it in the left side navigation bar:\n",
        "\n",
        "![Excel file](https://github.com/cjqvita/ds-content-interactive-jupyterlab-tutorial/blob/master/images/_5.png?raw=1)"
      ]
    },
    {
      "cell_type": "markdown",
      "metadata": {
        "id": "SCMewWjyLfWz"
      },
      "source": [
        "## Final words and how to get help\n",
        "\n",
        "That's it! It's your time now to start working and playing around with jupyter lab and Notebooks.ai. This product is in an early stage, so we'd love to receive all your feedback and suggestions. If you need help or ideas for us to implement, create an issue in the following replo: [https://github.com/notebooks-ai/notebooks-help](https://github.com/notebooks-ai/notebooks-help). It'll be highly appreciated!"
      ]
    },
    {
      "cell_type": "markdown",
      "metadata": {
        "id": "w9A0MJqPLfWz"
      },
      "source": [
        "![purple-divider](https://user-images.githubusercontent.com/7065401/52071927-c1cd7100-2562-11e9-908a-dde91ba14e59.png)"
      ]
    }
  ],
  "metadata": {
    "kernelspec": {
      "display_name": "Python 3",
      "language": "python",
      "name": "python3"
    },
    "language_info": {
      "codemirror_mode": {
        "name": "ipython",
        "version": 3
      },
      "file_extension": ".py",
      "mimetype": "text/x-python",
      "name": "python",
      "nbconvert_exporter": "python",
      "pygments_lexer": "ipython3",
      "version": "3.6.8"
    },
    "colab": {
      "name": "Tutorial.ipynb",
      "provenance": []
    }
  },
  "nbformat": 4,
  "nbformat_minor": 0
}